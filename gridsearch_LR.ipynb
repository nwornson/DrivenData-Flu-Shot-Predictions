{
 "cells": [
  {
   "cell_type": "code",
   "execution_count": 20,
   "metadata": {},
   "outputs": [],
   "source": [
    "import pandas as pd\n",
    "import numpy as np\n",
    "from sklearn.model_selection import train_test_split\n",
    "from sklearn.preprocessing import StandardScaler\n",
    "from sklearn.impute import SimpleImputer\n",
    "from sklearn.multioutput import MultiOutputClassifier\n",
    "\n",
    "from sklearn.linear_model import LogisticRegression\n",
    "from sklearn.metrics import roc_auc_score\n",
    "from sklearn.model_selection import GridSearchCV"
   ]
  },
  {
   "cell_type": "code",
   "execution_count": 2,
   "metadata": {},
   "outputs": [],
   "source": [
    "# importing the data\n",
    "\n",
    "train = pd.read_csv('training_set_features.csv',index_col='respondent_id')\n",
    "train_labels = pd.read_csv('training_set_labels.csv',index_col='respondent_id')\n",
    "test = pd.read_csv('test_set_features.csv',index_col='respondent_id')\n",
    "\n",
    "trainN = train[train.columns[train.dtypes != 'object']] # continuous\n",
    "trainC = train[train.columns[train.dtypes == 'object']] # discrete\n",
    "\n"
   ]
  },
  {
   "cell_type": "code",
   "execution_count": 3,
   "metadata": {},
   "outputs": [],
   "source": [
    "## categorical dataframe\n",
    "# take care of NA's by replacing them with 'Not Reported' (NR) for now\n",
    "trainC2 = trainC.fillna('NR')\n",
    "\n",
    "#  get dummies/encode categorical variables\n",
    "DtrainC = pd.get_dummies(trainC2,drop_first=True)"
   ]
  },
  {
   "cell_type": "code",
   "execution_count": 4,
   "metadata": {},
   "outputs": [],
   "source": [
    "## expirement cell\n",
    "## impute missing values\n",
    "## center and scale numerical variables\n",
    "# unfortunately this does not preserve column names\n",
    "\n",
    "si = SimpleImputer(missing_values = np.nan,strategy = 'mean').fit(trainN)\n",
    "si_trainN = pd.DataFrame(si.transform(trainN))\n",
    "\n",
    "\n",
    "ss = StandardScaler().fit(si_trainN)\n",
    "trainN_proc = pd.DataFrame(ss.transform(si_trainN),\n",
    "                           columns = si_trainN.columns,\n",
    "                          index = trainN.index)\n"
   ]
  },
  {
   "cell_type": "code",
   "execution_count": 5,
   "metadata": {},
   "outputs": [],
   "source": [
    "# use the transformers from the training set on the test set, and encode categoricals\n",
    "\n",
    "testN = test[test.columns[test.dtypes != 'object']] # continuous\n",
    "testC = test[test.columns[test.dtypes == 'object']] # discrete\n",
    "\n",
    "testC2 = testC.fillna('NR')\n",
    "DtestC = pd.get_dummies(testC2,drop_first=True)\n",
    "\n",
    "si_testN = pd.DataFrame(si.transform(testN))\n",
    "\n",
    "testN_proc = pd.DataFrame(ss.fit_transform(si_testN),\n",
    "                          columns = si_testN.columns,\n",
    "                         index = testN.index)\n"
   ]
  },
  {
   "cell_type": "code",
   "execution_count": 7,
   "metadata": {},
   "outputs": [],
   "source": [
    "#  combine the two datasets\n",
    "DF = trainN_proc.join(DtrainC) \n",
    "DF_sub = testN_proc.join(DtestC) "
   ]
  },
  {
   "cell_type": "code",
   "execution_count": 9,
   "metadata": {},
   "outputs": [],
   "source": [
    "# split the data into training and test datasets\n",
    "\n",
    "X_train, X_test, Y_train, Y_test = train_test_split(\n",
    "    DF,\n",
    "    train_labels,\n",
    "    test_size=0.33,\n",
    "    shuffle=True,\n",
    "    stratify=train_labels,\n",
    ")"
   ]
  },
  {
   "cell_type": "code",
   "execution_count": 10,
   "metadata": {},
   "outputs": [
    {
     "data": {
      "text/plain": [
       "0.6684819605173588"
      ]
     },
     "execution_count": 10,
     "metadata": {},
     "output_type": "execute_result"
    }
   ],
   "source": [
    "# train a Logistic regression model on the training data\n",
    "LR_model = MultiOutputClassifier(estimator = LogisticRegression(max_iter=200)).fit(X_train,Y_train)\n",
    "\n",
    "# classification score.  The competition is judged using area-under-the-curve however (ROC AUC)\n",
    "LR_model.score(X_test,Y_test)"
   ]
  },
  {
   "cell_type": "code",
   "execution_count": 70,
   "metadata": {},
   "outputs": [
    {
     "data": {
      "text/plain": [
       "GridSearchCV(cv=RepeatedKFold(n_repeats=2, n_splits=10, random_state=42),\n",
       "             error_score=nan,\n",
       "             estimator=Pipeline(memory=None,\n",
       "                                steps=[('clf',\n",
       "                                        MultiOutputClassifier(estimator=LogisticRegression(C=1.0,\n",
       "                                                                                           class_weight=None,\n",
       "                                                                                           dual=False,\n",
       "                                                                                           fit_intercept=True,\n",
       "                                                                                           intercept_scaling=1,\n",
       "                                                                                           l1_ratio=None,\n",
       "                                                                                           max_iter=200,\n",
       "                                                                                           multi_class='auto',\n",
       "                                                                                           n_jobs=None,\n",
       "                                                                                           penalty='l2',\n",
       "                                                                                           random_state=None,\n",
       "                                                                                           solver='lbfgs',\n",
       "                                                                                           tol=0.0001,\n",
       "                                                                                           verbose=0,\n",
       "                                                                                           warm_start=False),\n",
       "                                                              n_jobs=None))],\n",
       "                                verbose=False),\n",
       "             iid='deprecated', n_jobs=None,\n",
       "             param_grid={'clf__estimator__C': [0.1, 0.2, 0.3, 0.4, 0.5, 0.6,\n",
       "                                               0.7, 0.8, 0.9, 1]},\n",
       "             pre_dispatch='2*n_jobs', refit=True, return_train_score=False,\n",
       "             scoring='roc_auc', verbose=0)"
      ]
     },
     "execution_count": 70,
     "metadata": {},
     "output_type": "execute_result"
    }
   ],
   "source": [
    "from sklearn.pipeline import Pipeline\n",
    "from sklearn.model_selection import RepeatedKFold\n",
    "\n",
    "pipeline = Pipeline([\n",
    "\n",
    "    ('clf', MultiOutputClassifier(LogisticRegression(max_iter=200)))\n",
    "])\n",
    "\n",
    "#parameters = [\n",
    "#    {\"clf\": [LogisticRegression(max_iter=200)],\n",
    "#    \"clf__estimator__C\": Cparam}\n",
    "#]\n",
    "\n",
    "parameters = {'clf__estimator__C': [.1,.2,.3,.4,.5,.6,.7,.8,.9,1]}\n",
    "\n",
    "rkf = RepeatedKFold(\n",
    "    n_splits=10,\n",
    "    n_repeats=2,\n",
    "    random_state=42\n",
    ")\n",
    "\n",
    "cv = GridSearchCV(\n",
    "    pipeline,\n",
    "    parameters,\n",
    "    cv=rkf,\n",
    "    scoring= 'roc_auc',\n",
    ")\n",
    "\n",
    "cv"
   ]
  },
  {
   "cell_type": "code",
   "execution_count": 71,
   "metadata": {},
   "outputs": [
    {
     "data": {
      "text/plain": [
       "{'mean_fit_time': array([0.36383033, 0.43927499, 0.48185881, 0.52340492, 0.54838452,\n",
       "        0.57950388, 0.61555352, 0.63619618, 0.67399802, 0.66856203]),\n",
       " 'std_fit_time': array([0.02543078, 0.02967829, 0.03274918, 0.02415913, 0.03295768,\n",
       "        0.03100751, 0.04434022, 0.04462313, 0.06304217, 0.03811829]),\n",
       " 'mean_score_time': array([0.00583074, 0.00638261, 0.00593573, 0.00617795, 0.00638241,\n",
       "        0.00642846, 0.0065818 , 0.00613493, 0.005984  , 0.00668093]),\n",
       " 'std_score_time': array([0.00100672, 0.00106843, 0.0008662 , 0.00115743, 0.00110914,\n",
       "        0.00127872, 0.0015889 , 0.00119274, 0.001001  , 0.00161245]),\n",
       " 'param_clf__estimator__C': masked_array(data=[0.1, 0.2, 0.3, 0.4, 0.5, 0.6, 0.7, 0.8, 0.9, 1],\n",
       "              mask=[False, False, False, False, False, False, False, False,\n",
       "                    False, False],\n",
       "        fill_value='?',\n",
       "             dtype=object),\n",
       " 'params': [{'clf__estimator__C': 0.1},\n",
       "  {'clf__estimator__C': 0.2},\n",
       "  {'clf__estimator__C': 0.3},\n",
       "  {'clf__estimator__C': 0.4},\n",
       "  {'clf__estimator__C': 0.5},\n",
       "  {'clf__estimator__C': 0.6},\n",
       "  {'clf__estimator__C': 0.7},\n",
       "  {'clf__estimator__C': 0.8},\n",
       "  {'clf__estimator__C': 0.9},\n",
       "  {'clf__estimator__C': 1}],\n",
       " 'split0_test_score': array([0.84361232, 0.84387519, 0.84392646, 0.84389719, 0.84389517,\n",
       "        0.84389626, 0.84387635, 0.84387896, 0.8439102 , 0.84390044]),\n",
       " 'split1_test_score': array([0.8380514 , 0.83788764, 0.83778013, 0.83766923, 0.83758037,\n",
       "        0.83753214, 0.83749085, 0.8374751 , 0.83747099, 0.83745807]),\n",
       " 'split2_test_score': array([0.83210607, 0.83200961, 0.83197259, 0.83191422, 0.83187186,\n",
       "        0.83184474, 0.83182039, 0.83183055, 0.83181128, 0.83179409]),\n",
       " 'split3_test_score': array([0.84980706, 0.84959569, 0.84941348, 0.84928513, 0.84920807,\n",
       "        0.84917174, 0.8491436 , 0.84911213, 0.84908804, 0.84905576]),\n",
       " 'split4_test_score': array([0.84528429, 0.845511  , 0.84555887, 0.84556517, 0.84557414,\n",
       "        0.84557549, 0.84558677, 0.8455958 , 0.84559224, 0.84560505]),\n",
       " 'split5_test_score': array([0.84687917, 0.84650871, 0.84636378, 0.84624144, 0.84615518,\n",
       "        0.84611753, 0.84608083, 0.8460642 , 0.84604319, 0.84602342]),\n",
       " 'split6_test_score': array([0.84202536, 0.84230102, 0.8424837 , 0.84258507, 0.84260271,\n",
       "        0.84259901, 0.84261722, 0.84260894, 0.84261865, 0.84261014]),\n",
       " 'split7_test_score': array([0.83300394, 0.83314766, 0.83318671, 0.83317553, 0.83314131,\n",
       "        0.83310728, 0.8331272 , 0.8331275 , 0.83313161, 0.83314005]),\n",
       " 'split8_test_score': array([0.84599234, 0.84595677, 0.84588643, 0.84582768, 0.84576702,\n",
       "        0.84574076, 0.84572199, 0.84569979, 0.84568571, 0.8456732 ]),\n",
       " 'split9_test_score': array([0.84648411, 0.84633239, 0.84617026, 0.84609299, 0.84598638,\n",
       "        0.84595036, 0.84589854, 0.84586112, 0.84583803, 0.84580301]),\n",
       " 'split10_test_score': array([0.84705313, 0.84705499, 0.8470503 , 0.8470105 , 0.84698711,\n",
       "        0.84697286, 0.84694807, 0.84692215, 0.8469089 , 0.84689403]),\n",
       " 'split11_test_score': array([0.8325176 , 0.83244102, 0.83235409, 0.83230309, 0.83228156,\n",
       "        0.83223624, 0.83220594, 0.83218801, 0.83219151, 0.83218149]),\n",
       " 'split12_test_score': array([0.84055533, 0.84049597, 0.84038189, 0.84033303, 0.8402957 ,\n",
       "        0.84022822, 0.84021369, 0.84019418, 0.84017493, 0.84017989]),\n",
       " 'split13_test_score': array([0.84727367, 0.84687726, 0.8466476 , 0.84651169, 0.84640001,\n",
       "        0.84632554, 0.84625761, 0.84619358, 0.8461463 , 0.84610026]),\n",
       " 'split14_test_score': array([0.83813238, 0.83832918, 0.8383623 , 0.83838247, 0.83840448,\n",
       "        0.83839002, 0.83840216, 0.83840016, 0.83841369, 0.83841673]),\n",
       " 'split15_test_score': array([0.84339306, 0.84336134, 0.84330371, 0.84327117, 0.84325043,\n",
       "        0.84327211, 0.84326759, 0.84323679, 0.84324146, 0.84324461]),\n",
       " 'split16_test_score': array([0.84270272, 0.84276258, 0.84271558, 0.84265625, 0.84262218,\n",
       "        0.84259234, 0.84257527, 0.84255461, 0.84255148, 0.84253848]),\n",
       " 'split17_test_score': array([0.84291907, 0.84264574, 0.84240743, 0.84228748, 0.84217819,\n",
       "        0.8421183 , 0.84205256, 0.84202775, 0.84199136, 0.8419513 ]),\n",
       " 'split18_test_score': array([0.83414193, 0.83403117, 0.83390618, 0.83380942, 0.83375466,\n",
       "        0.83371757, 0.83368771, 0.8336553 , 0.83361198, 0.83358753]),\n",
       " 'split19_test_score': array([0.85147805, 0.8515188 , 0.851441  , 0.85141852, 0.85140278,\n",
       "        0.85133973, 0.85131256, 0.85128301, 0.85126702, 0.85125908]),\n",
       " 'mean_test_score': array([0.84217065, 0.84213219, 0.84206562, 0.84201186, 0.84196796,\n",
       "        0.84193641, 0.84191434, 0.84189548, 0.84188443, 0.84187083]),\n",
       " 'std_test_score': array([0.00567092, 0.0056415 , 0.00562171, 0.0056158 , 0.00561023,\n",
       "        0.00561057, 0.00560565, 0.00559856, 0.00559603, 0.00559251]),\n",
       " 'rank_test_score': array([ 1,  2,  3,  4,  5,  6,  7,  8,  9, 10])}"
      ]
     },
     "execution_count": 71,
     "metadata": {},
     "output_type": "execute_result"
    }
   ],
   "source": [
    "cv.fit(X_train,Y_train)\n",
    "cv.cv_results_"
   ]
  },
  {
   "cell_type": "code",
   "execution_count": 72,
   "metadata": {},
   "outputs": [
    {
     "data": {
      "text/plain": [
       "0.8462071254305994"
      ]
     },
     "execution_count": 72,
     "metadata": {},
     "output_type": "execute_result"
    }
   ],
   "source": [
    "optoLR = cv.best_estimator_\n",
    "optoLR.fit(X_train,Y_train)\n",
    "\n",
    "preds = optoLR.predict_proba(X_test)\n",
    "\n",
    "Y_preds = pd.DataFrame(\n",
    "    {\n",
    "        \"h1n1_vaccine\": preds[0][:, 1],\n",
    "        \"seasonal_vaccine\": preds[1][:, 1],\n",
    "    },\n",
    "    index = Y_test.index\n",
    ")\n",
    "\n",
    "roc_auc_score(Y_test,Y_preds)"
   ]
  },
  {
   "cell_type": "code",
   "execution_count": 12,
   "metadata": {},
   "outputs": [
    {
     "data": {
      "text/plain": [
       "0.8460844224146622"
      ]
     },
     "execution_count": 12,
     "metadata": {},
     "output_type": "execute_result"
    }
   ],
   "source": [
    "#  look at the average ROC area under the curve score\n",
    "roc_auc_score(Y_test,Y_preds)"
   ]
  },
  {
   "cell_type": "code",
   "execution_count": 73,
   "metadata": {},
   "outputs": [
    {
     "data": {
      "text/html": [
       "<div>\n",
       "<style scoped>\n",
       "    .dataframe tbody tr th:only-of-type {\n",
       "        vertical-align: middle;\n",
       "    }\n",
       "\n",
       "    .dataframe tbody tr th {\n",
       "        vertical-align: top;\n",
       "    }\n",
       "\n",
       "    .dataframe thead th {\n",
       "        text-align: right;\n",
       "    }\n",
       "</style>\n",
       "<table border=\"1\" class=\"dataframe\">\n",
       "  <thead>\n",
       "    <tr style=\"text-align: right;\">\n",
       "      <th></th>\n",
       "      <th>h1n1_vaccine</th>\n",
       "      <th>seasonal_vaccine</th>\n",
       "    </tr>\n",
       "  </thead>\n",
       "  <tbody>\n",
       "    <tr>\n",
       "      <th>0</th>\n",
       "      <td>0.074726</td>\n",
       "      <td>0.313458</td>\n",
       "    </tr>\n",
       "    <tr>\n",
       "      <th>1</th>\n",
       "      <td>0.020953</td>\n",
       "      <td>0.031925</td>\n",
       "    </tr>\n",
       "    <tr>\n",
       "      <th>2</th>\n",
       "      <td>0.473723</td>\n",
       "      <td>0.646697</td>\n",
       "    </tr>\n",
       "    <tr>\n",
       "      <th>3</th>\n",
       "      <td>0.480853</td>\n",
       "      <td>0.868863</td>\n",
       "    </tr>\n",
       "    <tr>\n",
       "      <th>4</th>\n",
       "      <td>0.223085</td>\n",
       "      <td>0.519225</td>\n",
       "    </tr>\n",
       "    <tr>\n",
       "      <th>...</th>\n",
       "      <td>...</td>\n",
       "      <td>...</td>\n",
       "    </tr>\n",
       "    <tr>\n",
       "      <th>26703</th>\n",
       "      <td>0.346225</td>\n",
       "      <td>0.483380</td>\n",
       "    </tr>\n",
       "    <tr>\n",
       "      <th>26704</th>\n",
       "      <td>0.045066</td>\n",
       "      <td>0.235377</td>\n",
       "    </tr>\n",
       "    <tr>\n",
       "      <th>26705</th>\n",
       "      <td>0.153685</td>\n",
       "      <td>0.203492</td>\n",
       "    </tr>\n",
       "    <tr>\n",
       "      <th>26706</th>\n",
       "      <td>0.052612</td>\n",
       "      <td>0.346455</td>\n",
       "    </tr>\n",
       "    <tr>\n",
       "      <th>26707</th>\n",
       "      <td>0.566618</td>\n",
       "      <td>0.551543</td>\n",
       "    </tr>\n",
       "  </tbody>\n",
       "</table>\n",
       "<p>26708 rows × 2 columns</p>\n",
       "</div>"
      ],
      "text/plain": [
       "       h1n1_vaccine  seasonal_vaccine\n",
       "0          0.074726          0.313458\n",
       "1          0.020953          0.031925\n",
       "2          0.473723          0.646697\n",
       "3          0.480853          0.868863\n",
       "4          0.223085          0.519225\n",
       "...             ...               ...\n",
       "26703      0.346225          0.483380\n",
       "26704      0.045066          0.235377\n",
       "26705      0.153685          0.203492\n",
       "26706      0.052612          0.346455\n",
       "26707      0.566618          0.551543\n",
       "\n",
       "[26708 rows x 2 columns]"
      ]
     },
     "execution_count": 73,
     "metadata": {},
     "output_type": "execute_result"
    }
   ],
   "source": [
    "#  make our submission model by training on the entire data set\n",
    "#  make our predictions to be submitted\n",
    "\n",
    "sub_preds = optoLR.predict_proba(DF_sub)\n",
    "\n",
    "sub_preds = pd.DataFrame(\n",
    "    {\n",
    "        \"h1n1_vaccine\": sub_preds[0][:, 1],\n",
    "        \"seasonal_vaccine\": sub_preds[1][:, 1],\n",
    "    }\n",
    ")\n",
    "\n",
    "sub_preds"
   ]
  },
  {
   "cell_type": "code",
   "execution_count": 74,
   "metadata": {},
   "outputs": [
    {
     "data": {
      "text/html": [
       "<div>\n",
       "<style scoped>\n",
       "    .dataframe tbody tr th:only-of-type {\n",
       "        vertical-align: middle;\n",
       "    }\n",
       "\n",
       "    .dataframe tbody tr th {\n",
       "        vertical-align: top;\n",
       "    }\n",
       "\n",
       "    .dataframe thead th {\n",
       "        text-align: right;\n",
       "    }\n",
       "</style>\n",
       "<table border=\"1\" class=\"dataframe\">\n",
       "  <thead>\n",
       "    <tr style=\"text-align: right;\">\n",
       "      <th></th>\n",
       "      <th>respondent_id</th>\n",
       "      <th>h1n1_vaccine</th>\n",
       "      <th>seasonal_vaccine</th>\n",
       "    </tr>\n",
       "  </thead>\n",
       "  <tbody>\n",
       "    <tr>\n",
       "      <th>0</th>\n",
       "      <td>26707</td>\n",
       "      <td>0.5</td>\n",
       "      <td>0.7</td>\n",
       "    </tr>\n",
       "    <tr>\n",
       "      <th>1</th>\n",
       "      <td>26708</td>\n",
       "      <td>0.5</td>\n",
       "      <td>0.7</td>\n",
       "    </tr>\n",
       "    <tr>\n",
       "      <th>2</th>\n",
       "      <td>26709</td>\n",
       "      <td>0.5</td>\n",
       "      <td>0.7</td>\n",
       "    </tr>\n",
       "    <tr>\n",
       "      <th>3</th>\n",
       "      <td>26710</td>\n",
       "      <td>0.5</td>\n",
       "      <td>0.7</td>\n",
       "    </tr>\n",
       "    <tr>\n",
       "      <th>4</th>\n",
       "      <td>26711</td>\n",
       "      <td>0.5</td>\n",
       "      <td>0.7</td>\n",
       "    </tr>\n",
       "  </tbody>\n",
       "</table>\n",
       "</div>"
      ],
      "text/plain": [
       "   respondent_id  h1n1_vaccine  seasonal_vaccine\n",
       "0          26707           0.5               0.7\n",
       "1          26708           0.5               0.7\n",
       "2          26709           0.5               0.7\n",
       "3          26710           0.5               0.7\n",
       "4          26711           0.5               0.7"
      ]
     },
     "execution_count": 74,
     "metadata": {},
     "output_type": "execute_result"
    }
   ],
   "source": [
    "#  look at the submission format\n",
    "sub_form = pd.read_csv('submission_format.csv')\n",
    "sub_form.head()"
   ]
  },
  {
   "cell_type": "code",
   "execution_count": 75,
   "metadata": {},
   "outputs": [
    {
     "data": {
      "text/html": [
       "<div>\n",
       "<style scoped>\n",
       "    .dataframe tbody tr th:only-of-type {\n",
       "        vertical-align: middle;\n",
       "    }\n",
       "\n",
       "    .dataframe tbody tr th {\n",
       "        vertical-align: top;\n",
       "    }\n",
       "\n",
       "    .dataframe thead th {\n",
       "        text-align: right;\n",
       "    }\n",
       "</style>\n",
       "<table border=\"1\" class=\"dataframe\">\n",
       "  <thead>\n",
       "    <tr style=\"text-align: right;\">\n",
       "      <th></th>\n",
       "      <th>respondent_id</th>\n",
       "      <th>h1n1_vaccine</th>\n",
       "      <th>seasonal_vaccine</th>\n",
       "    </tr>\n",
       "  </thead>\n",
       "  <tbody>\n",
       "    <tr>\n",
       "      <th>0</th>\n",
       "      <td>26707</td>\n",
       "      <td>0.074726</td>\n",
       "      <td>0.313458</td>\n",
       "    </tr>\n",
       "    <tr>\n",
       "      <th>1</th>\n",
       "      <td>26708</td>\n",
       "      <td>0.020953</td>\n",
       "      <td>0.031925</td>\n",
       "    </tr>\n",
       "    <tr>\n",
       "      <th>2</th>\n",
       "      <td>26709</td>\n",
       "      <td>0.473723</td>\n",
       "      <td>0.646697</td>\n",
       "    </tr>\n",
       "    <tr>\n",
       "      <th>3</th>\n",
       "      <td>26710</td>\n",
       "      <td>0.480853</td>\n",
       "      <td>0.868863</td>\n",
       "    </tr>\n",
       "    <tr>\n",
       "      <th>4</th>\n",
       "      <td>26711</td>\n",
       "      <td>0.223085</td>\n",
       "      <td>0.519225</td>\n",
       "    </tr>\n",
       "  </tbody>\n",
       "</table>\n",
       "</div>"
      ],
      "text/plain": [
       "   respondent_id  h1n1_vaccine  seasonal_vaccine\n",
       "0          26707      0.074726          0.313458\n",
       "1          26708      0.020953          0.031925\n",
       "2          26709      0.473723          0.646697\n",
       "3          26710      0.480853          0.868863\n",
       "4          26711      0.223085          0.519225"
      ]
     },
     "execution_count": 75,
     "metadata": {},
     "output_type": "execute_result"
    }
   ],
   "source": [
    "#  insert the respondent id as a column\n",
    "sub_preds.insert(loc=0,column='respondent_id',value=DF_sub.index)\n",
    "sub_preds.head()"
   ]
  },
  {
   "cell_type": "code",
   "execution_count": 76,
   "metadata": {},
   "outputs": [],
   "source": [
    "sub_preds.to_csv('preds1_LR_MI_GS.csv',index=False)"
   ]
  },
  {
   "cell_type": "markdown",
   "metadata": {},
   "source": [
    "preds1_LR == first submission (mode imputed) <br>\n",
    "preds1_LR_MI == second submission (mean imputed)"
   ]
  }
 ],
 "metadata": {
  "kernelspec": {
   "display_name": "Python 3.6.10 64-bit ('PythonData': conda)",
   "language": "python",
   "name": "python361064bitpythondataconda029217cdb53f4e6d9ee21f692b96c361"
  },
  "language_info": {
   "codemirror_mode": {
    "name": "ipython",
    "version": 3
   },
   "file_extension": ".py",
   "mimetype": "text/x-python",
   "name": "python",
   "nbconvert_exporter": "python",
   "pygments_lexer": "ipython3",
   "version": "3.6.10"
  }
 },
 "nbformat": 4,
 "nbformat_minor": 4
}
